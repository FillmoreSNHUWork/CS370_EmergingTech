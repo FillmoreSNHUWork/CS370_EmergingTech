{
 "cells": [
  {
   "cell_type": "markdown",
   "metadata": {},
   "source": [
    "# Treasure Hunt Game Notebook\n",
    "\n",
    "## Read and Review Your Starter Code\n",
    "The theme of this project is a popular treasure hunt game in which the player needs to find the treasure before the pirate does. While you will not be developing the entire game, you will write the part of the game that represents the intelligent agent, which is a pirate in this case. The pirate will try to find the optimal path to the treasure using deep Q-learning. \n",
    "\n",
    "You have been provided with two Python classes and this notebook to help you with this assignment. The first class, TreasureMaze.py, represents the environment, which includes a maze object defined as a matrix. The second class, GameExperience.py, stores the episodes – that is, all the states that come in between the initial state and the terminal state. This is later used by the agent for learning by experience, called \"exploration\". This notebook shows how to play a game. Your task is to complete the deep Q-learning implementation for which a skeleton implementation has been provided. The code blocks you will need to complete has #TODO as a header.\n",
    "\n",
    "First, read and review the next few code and instruction blocks to understand the code that you have been given."
   ]
  },
  {
   "cell_type": "code",
   "execution_count": 257,
   "metadata": {},
   "outputs": [],
   "source": [
    "from __future__ import print_function\n",
    "import os, sys, time, datetime, json, random\n",
    "import numpy as np\n",
    "from keras.models import Sequential\n",
    "from keras.layers.core import Dense, Activation\n",
    "from keras.optimizers import SGD , Adam, RMSprop\n",
    "from keras.layers.advanced_activations import PReLU\n",
    "import matplotlib.pyplot as plt\n",
    "from TreasureMaze import TreasureMaze\n",
    "from GameExperience import GameExperience\n",
    "%matplotlib inline"
   ]
  },
  {
   "cell_type": "markdown",
   "metadata": {},
   "source": [
    "The following code block contains an 8x8 matrix that will be used as a maze object:"
   ]
  },
  {
   "cell_type": "code",
   "execution_count": 258,
   "metadata": {},
   "outputs": [],
   "source": [
    "maze = np.array([\n",
    "    [ 1.,  0.,  1.,  1.,  1.,  1.,  1.,  1.],\n",
    "    [ 1.,  0.,  1.,  1.,  1.,  0.,  1.,  1.],\n",
    "    [ 1.,  1.,  1.,  1.,  0.,  1.,  0.,  1.],\n",
    "    [ 1.,  1.,  1.,  0.,  1.,  1.,  1.,  1.],\n",
    "    [ 1.,  1.,  0.,  1.,  1.,  1.,  1.,  1.],\n",
    "    [ 1.,  1.,  1.,  0.,  1.,  0.,  0.,  0.],\n",
    "    [ 1.,  1.,  1.,  0.,  1.,  1.,  1.,  1.],\n",
    "    [ 1.,  1.,  1.,  1.,  0.,  1.,  1.,  1.]\n",
    "])"
   ]
  },
  {
   "cell_type": "markdown",
   "metadata": {},
   "source": [
    "This helper function allows a visual representation of the maze object:"
   ]
  },
  {
   "cell_type": "code",
   "execution_count": 259,
   "metadata": {},
   "outputs": [],
   "source": [
    "def show(qmaze):\n",
    "    plt.grid('on')\n",
    "    nrows, ncols = qmaze.maze.shape\n",
    "    ax = plt.gca()\n",
    "    ax.set_xticks(np.arange(0.5, nrows, 1))\n",
    "    ax.set_yticks(np.arange(0.5, ncols, 1))\n",
    "    ax.set_xticklabels([])\n",
    "    ax.set_yticklabels([])\n",
    "    canvas = np.copy(qmaze.maze)\n",
    "    for row,col in qmaze.visited:\n",
    "        canvas[row,col] = 0.6\n",
    "    pirate_row, pirate_col, _ = qmaze.state\n",
    "    canvas[pirate_row, pirate_col] = 0.3   # pirate cell\n",
    "    canvas[nrows-1, ncols-1] = 0.9 # treasure cell\n",
    "    img = plt.imshow(canvas, interpolation='none', cmap='gray')\n",
    "    return img"
   ]
  },
  {
   "cell_type": "markdown",
   "metadata": {},
   "source": [
    "The pirate agent can move in four directions: left, right, up, and down. \n",
    "\n",
    "While the agent primarily learns by experience through exploitation, often, the agent can choose to explore the environment to find previously undiscovered paths. This is called \"exploration\" and is defined by epsilon. This value is typically a lower value such as 0.1, which means for every ten attempts, the agent will attempt to learn by experience nine times and will randomly explore a new path one time. You are encouraged to try various values for the exploration factor and see how the algorithm performs."
   ]
  },
  {
   "cell_type": "code",
   "execution_count": 260,
   "metadata": {},
   "outputs": [],
   "source": [
    "LEFT = 0\n",
    "UP = 1\n",
    "RIGHT = 2\n",
    "DOWN = 3\n",
    "\n",
    "\n",
    "# Exploration factor\n",
    "epsilon = 0.1\n",
    "\n",
    "# Actions dictionary\n",
    "actions_dict = {\n",
    "    LEFT: 'left',\n",
    "    UP: 'up',\n",
    "    RIGHT: 'right',\n",
    "    DOWN: 'down',\n",
    "}\n",
    "\n",
    "num_actions = len(actions_dict)\n"
   ]
  },
  {
   "cell_type": "markdown",
   "metadata": {},
   "source": [
    "The sample code block and output below show creating a maze object and performing one action (DOWN), which returns the reward. The resulting updated environment is visualized."
   ]
  },
  {
   "cell_type": "code",
   "execution_count": 261,
   "metadata": {},
   "outputs": [
    {
     "name": "stdout",
     "output_type": "stream",
     "text": [
      "reward= -0.04\n"
     ]
    },
    {
     "data": {
      "text/plain": [
       "<matplotlib.image.AxesImage at 0x215c6866ac8>"
      ]
     },
     "execution_count": 261,
     "metadata": {},
     "output_type": "execute_result"
    },
    {
     "data": {
      "image/png": "[encoded data removed]",
      "text/plain": [
       "<Figure size 432x288 with 1 Axes>"
      ]
     },
     "metadata": {
      "needs_background": "light"
     },
     "output_type": "display_data"
    }
   ],
   "source": [
    "qmaze = TreasureMaze(maze)\n",
    "canvas, reward, game_over = qmaze.act(DOWN)\n",
    "print(\"reward=\", reward)\n",
    "show(qmaze)"
   ]
  },
  {
   "cell_type": "markdown",
   "metadata": {},
   "source": [
    "This function simulates a full game based on the provided trained model. The other parameters include the TreasureMaze object and the starting position of the pirate."
   ]
  },
  {
   "cell_type": "code",
   "execution_count": 262,
   "metadata": {},
   "outputs": [],
   "source": [
    "def play_game(model, qmaze, pirate_cell):\n",
    "    qmaze.reset(pirate_cell)\n",
    "    envstate = qmaze.observe()\n",
    "    while True:\n",
    "        prev_envstate = envstate\n",
    "        # get next action\n",
    "        q = model.predict(prev_envstate)\n",
    "        action = np.argmax(q[0])\n",
    "\n",
    "        # apply action, get rewards and new state\n",
    "        envstate, reward, game_status = qmaze.act(action)\n",
    "        if game_status == 'win':\n",
    "            return True\n",
    "        elif game_status == 'lose':\n",
    "            return False"
   ]
  },
  {
   "cell_type": "markdown",
   "metadata": {},
   "source": [
    "This function helps you to determine whether the pirate can win any game at all. If your maze is not well designed, the pirate may not win any game at all. In this case, your training would not yield any result. The provided maze in this notebook ensures that there is a path to win and you can run this method to check."
   ]
  },
  {
   "cell_type": "code",
   "execution_count": 263,
   "metadata": {},
   "outputs": [],
   "source": [
    "def completion_check(model, qmaze):\n",
    "    for cell in qmaze.free_cells:\n",
    "        if not qmaze.valid_actions(cell):\n",
    "            return False\n",
    "        if not play_game(model, qmaze, cell):\n",
    "            return False\n",
    "    return True"
   ]
  },
  {
   "cell_type": "markdown",
   "metadata": {},
   "source": [
    "The code you have been given in this block will build the neural network model. Review the code and note the number of layers, as well as the activation, optimizer, and loss functions that are used to train the model."
   ]
  },
  {
   "cell_type": "code",
   "execution_count": 264,
   "metadata": {},
   "outputs": [],
   "source": [
    "def build_model(maze):\n",
    "    model = Sequential()\n",
    "    model.add(Dense(maze.size, input_shape=(maze.size,)))\n",
    "    model.add(PReLU())\n",
    "    model.add(Dense(maze.size))\n",
    "    model.add(PReLU())\n",
    "    model.add(Dense(num_actions))\n",
    "    model.compile(optimizer='adam', loss='mse')\n",
    "    return model"
   ]
  },
  {
   "cell_type": "markdown",
   "metadata": {},
   "source": [
    "# #TODO: Complete the Q-Training Algorithm Code Block\n",
    "\n",
    "This is your deep Q-learning implementation. The goal of your deep Q-learning implementation is to find the best possible navigation sequence that results in reaching the treasure cell while maximizing the reward. In your implementation, you need to determine the optimal number of epochs to achieve a 100% win rate.\n",
    "\n",
    "You will need to complete the section starting with #pseudocode. The pseudocode has been included for you."
   ]
  },
  {
   "cell_type": "code",
   "execution_count": 265,
   "metadata": {},
   "outputs": [],
   "source": [
    "import random\n",
    "import datetime\n",
    "import numpy as np\n",
    "from collections import deque\n",
    "from keras.models import Sequential\n",
    "from keras.layers import Dense\n",
    "from keras.optimizers import Adam\n",
    "\n",
    "# Project 2 params\n",
    "EXPLORATION_DECAY = 0.990\n",
    "EXPLORATION_MIN = 0.01\n",
    "LEARNING_RATE = 0.005\n",
    "GAMMA = 0.99\n",
    "MEMORY_SIZE = 2000  # Increased memory size\n",
    "BATCH_SIZE = 64  # Larger batch size for more robust training\n",
    "\n",
    "# Global epsilon for exploration factor\n",
    "epsilon = 1.0\n",
    "\n",
    "class GameExperience:\n",
    "    def __init__(self, model, max_memory=MEMORY_SIZE):\n",
    "        self.model = model\n",
    "        self.max_memory = max_memory\n",
    "        self.memory = deque(maxlen=max_memory)\n",
    "\n",
    "    def remember(self, episode):\n",
    "        self.memory.append(episode)\n",
    "\n",
    "    def get_data(self, data_size=BATCH_SIZE):\n",
    "        inputs = []\n",
    "        targets = []\n",
    "        if len(self.memory) < data_size:\n",
    "            return np.zeros((data_size, self.model.input_shape[1])), np.zeros((data_size, self.model.output_shape[1]))\n",
    "        \n",
    "        samples = random.sample(self.memory, data_size)\n",
    "        for state, action, reward, next_state, done in samples:\n",
    "            inputs.append(state)\n",
    "            q_values = self.model.predict(state, verbose=0)\n",
    "            if done:\n",
    "                q_values[0][action] = reward\n",
    "            else:\n",
    "                q_values_next = self.model.predict(next_state, verbose=0)\n",
    "                q_values[0][action] = reward + GAMMA * np.max(q_values_next)\n",
    "            targets.append(q_values[0])\n",
    "        \n",
    "        return np.array(inputs).reshape((data_size, -1)), np.array(targets)\n",
    "\n",
    "def qtrain(model, maze, **opt):\n",
    "    global epsilon\n",
    "\n",
    "    # Number of epochs\n",
    "    n_epoch = opt.get('n_epoch', 160)\n",
    "    # Maximum memory to store episodes\n",
    "    max_memory = opt.get('max_memory', MEMORY_SIZE)\n",
    "    # Maximum data size for training\n",
    "    data_size = opt.get('data_size', BATCH_SIZE)\n",
    "\n",
    "    # Start time\n",
    "    start_time = datetime.datetime.now()\n",
    "\n",
    "    # Build game from array\n",
    "    qmaze = TreasureMaze(maze)\n",
    "    num_actions = 4  # Define the number of possible actions: up, down, left, right\n",
    "\n",
    "    # Init experience object\n",
    "    experience = GameExperience(model, max_memory=max_memory)\n",
    "    \n",
    "    win_history = []   # Keep track of wins/losses\n",
    "    hsize = qmaze.maze.size // 2   # History window size\n",
    "    win_rate = 0.0  # Placeholder win rate\n",
    "    \n",
    "    # Start our loop\n",
    "    for epoch in range(n_epoch):\n",
    "        n_episodes = 0\n",
    "        agent_cell = random.choice(qmaze.free_cells)\n",
    "        qmaze.reset(agent_cell)\n",
    "        envstate = qmaze.observe()\n",
    "        \n",
    "        # Keep looping while prev envstate = the envstate\n",
    "        while True:\n",
    "            prev_envstate = envstate\n",
    "            if np.random.rand() < epsilon:\n",
    "                action = random.choice(range(num_actions))\n",
    "            else:\n",
    "                q = model.predict(prev_envstate, verbose=0)\n",
    "                action = np.argmax(q[0])\n",
    "            \n",
    "            envstate, reward, game_status = qmaze.act(action)\n",
    "            \n",
    "            episode = (prev_envstate, action, reward, envstate, game_status)  # Create a tuple of episode elements here\n",
    "            experience.remember(episode)  # Pass the episode tuple to remember\n",
    "            \n",
    "            inputs, targets = experience.get_data(data_size=data_size)\n",
    "            inputs = inputs.reshape((data_size, -1))  # Reshape inputs correctly\n",
    "            model.fit(inputs, targets, epochs=1, verbose=0)\n",
    "            \n",
    "            # Increment episodes\n",
    "            n_episodes += 1\n",
    "            if game_status == 'win':\n",
    "                win_history.append(1)\n",
    "                break\n",
    "            elif game_status == 'lose':\n",
    "                win_history.append(0)\n",
    "                break\n",
    "\n",
    "        if len(win_history) > hsize:\n",
    "            win_history = win_history[-hsize:]\n",
    "        \n",
    "        # Calculate win rates\n",
    "        win_rate = sum(win_history) / len(win_history)\n",
    "        \n",
    "        # Result output\n",
    "        dt = datetime.datetime.now() - start_time\n",
    "        t = format_time(dt.total_seconds())\n",
    "        template = \"Epoch: {:03d}/{:d} | Loss: {:.4f} | Episodes: {:d} | Win count: {:d} | Win rate: {:.3f} | time: {}\"\n",
    "        print(template.format(epoch, n_epoch-1, model.evaluate(inputs, targets, verbose=0), n_episodes, sum(win_history), win_rate, t))\n",
    "        \n",
    "        # Adjust exploration factor\n",
    "        if win_rate > 0.9:\n",
    "            print(\"ADJUSTING EXPLORATION\")\n",
    "            epsilon = 0.05\n",
    "        else:\n",
    "            epsilon = max(EXPLORATION_MIN, epsilon * EXPLORATION_DECAY)\n",
    "        \n",
    "        # Break out of the loop if we reach 100% win rate\n",
    "        if float(win_rate) >= 1.0:\n",
    "            print(\"Reached 100% win rate!!!\");\n",
    "            break\n",
    "\n",
    "    dt = datetime.datetime.now() - start_time\n",
    "    seconds = dt.total_seconds()\n",
    "    t = format_time(seconds)\n",
    "    \n",
    "    # Print results\n",
    "    print(\"n_epoch: %d, max_mem: %d, data: %d, time: %s\" % (epoch, max_memory, data_size, t))\n",
    "    \n",
    "        \n",
    "    return seconds\n",
    "\n",
    "# Pretty print time strings - utility for result outputs\n",
    "def format_time(seconds):\n",
    "    if seconds < 400:\n",
    "        s = float(seconds)\n",
    "        return \"%.1f seconds\" % (s,)\n",
    "    elif seconds < 4000:\n",
    "        m = seconds / 60.0\n",
    "        return \"%.2f minutes\" % (m,)\n",
    "    else:\n",
    "        h = seconds / 3600.0\n",
    "        return \"%.2f hours\" % (h,)\n"
   ]
  },
  {
   "cell_type": "markdown",
   "metadata": {},
   "source": [
    "## Test Your Model\n",
    "\n",
    "Now we will start testing the deep Q-learning implementation. To begin, select **Cell**, then **Run All** from the menu bar. This will run your notebook. As it runs, you should see output begin to appear beneath the next few cells. The code below creates an instance of TreasureMaze."
   ]
  },
  {
   "cell_type": "code",
   "execution_count": 266,
   "metadata": {
    "scrolled": true
   },
   "outputs": [
    {
     "data": {
      "text/plain": [
       "<matplotlib.image.AxesImage at 0x215c68ce188>"
      ]
     },
     "execution_count": 266,
     "metadata": {},
     "output_type": "execute_result"
    },
    {
     "data": {
      "image/png": "[encoded data removed]",
      "text/plain": [
       "<Figure size 432x288 with 1 Axes>"
      ]
     },
     "metadata": {
      "needs_background": "light"
     },
     "output_type": "display_data"
    }
   ],
   "source": [
    "qmaze = TreasureMaze(maze)\n",
    "show(qmaze)"
   ]
  },
  {
   "cell_type": "markdown",
   "metadata": {},
   "source": [
    "In the next code block, you will build your model and train it using deep Q-learning. Note: This step takes several minutes to fully run."
   ]
  },
  {
   "cell_type": "code",
   "execution_count": 267,
   "metadata": {
    "scrolled": false
   },
   "outputs": [
    {
     "name": "stdout",
     "output_type": "stream",
     "text": [
      "Epoch: 000/159 | Loss: 0.0007 | Episodes: 136 | Win count: 0 | Win rate: 0.000 | time: 7.6 seconds\n",
      "Epoch: 001/159 | Loss: 0.0064 | Episodes: 1 | Win count: 1 | Win rate: 0.500 | time: 7.9 seconds\n",
      "Epoch: 002/159 | Loss: 0.0014 | Episodes: 109 | Win count: 2 | Win rate: 0.667 | time: 15.3 seconds\n",
      "Epoch: 003/159 | Loss: 0.0012 | Episodes: 137 | Win count: 2 | Win rate: 0.500 | time: 24.2 seconds\n",
      "Epoch: 004/159 | Loss: 0.0045 | Episodes: 6 | Win count: 3 | Win rate: 0.600 | time: 24.7 seconds\n",
      "Epoch: 005/159 | Loss: 0.0007 | Episodes: 137 | Win count: 3 | Win rate: 0.500 | time: 33.6 seconds\n",
      "Epoch: 006/159 | Loss: 0.0010 | Episodes: 3 | Win count: 4 | Win rate: 0.571 | time: 33.7 seconds\n",
      "Epoch: 007/159 | Loss: 0.0013 | Episodes: 146 | Win count: 4 | Win rate: 0.500 | time: 43.3 seconds\n",
      "Epoch: 008/159 | Loss: 0.0019 | Episodes: 139 | Win count: 4 | Win rate: 0.444 | time: 52.5 seconds\n",
      "Epoch: 009/159 | Loss: 0.0013 | Episodes: 140 | Win count: 4 | Win rate: 0.400 | time: 61.5 seconds\n",
      "Epoch: 010/159 | Loss: 0.0007 | Episodes: 150 | Win count: 4 | Win rate: 0.364 | time: 71.7 seconds\n",
      "Epoch: 011/159 | Loss: 0.0011 | Episodes: 148 | Win count: 4 | Win rate: 0.333 | time: 81.5 seconds\n",
      "Epoch: 012/159 | Loss: 0.0011 | Episodes: 150 | Win count: 4 | Win rate: 0.308 | time: 91.2 seconds\n",
      "Epoch: 013/159 | Loss: 0.0017 | Episodes: 144 | Win count: 4 | Win rate: 0.286 | time: 100.4 seconds\n",
      "Epoch: 014/159 | Loss: 0.0012 | Episodes: 144 | Win count: 4 | Win rate: 0.267 | time: 110.1 seconds\n",
      "Epoch: 015/159 | Loss: 0.0013 | Episodes: 37 | Win count: 5 | Win rate: 0.312 | time: 112.6 seconds\n",
      "Epoch: 016/159 | Loss: 0.0008 | Episodes: 148 | Win count: 5 | Win rate: 0.294 | time: 122.2 seconds\n",
      "Epoch: 017/159 | Loss: 0.0010 | Episodes: 2 | Win count: 6 | Win rate: 0.333 | time: 122.3 seconds\n",
      "Epoch: 018/159 | Loss: 0.0020 | Episodes: 145 | Win count: 6 | Win rate: 0.316 | time: 131.6 seconds\n",
      "Epoch: 019/159 | Loss: 0.0007 | Episodes: 139 | Win count: 6 | Win rate: 0.300 | time: 141.5 seconds\n",
      "Epoch: 020/159 | Loss: 0.0010 | Episodes: 141 | Win count: 6 | Win rate: 0.286 | time: 150.8 seconds\n",
      "Epoch: 021/159 | Loss: 0.0009 | Episodes: 137 | Win count: 6 | Win rate: 0.273 | time: 159.9 seconds\n",
      "Epoch: 022/159 | Loss: 0.0012 | Episodes: 146 | Win count: 6 | Win rate: 0.261 | time: 169.5 seconds\n",
      "Epoch: 023/159 | Loss: 0.0009 | Episodes: 142 | Win count: 6 | Win rate: 0.250 | time: 178.8 seconds\n",
      "Epoch: 024/159 | Loss: 0.0009 | Episodes: 44 | Win count: 7 | Win rate: 0.280 | time: 181.6 seconds\n",
      "Epoch: 025/159 | Loss: 0.0011 | Episodes: 148 | Win count: 7 | Win rate: 0.269 | time: 191.6 seconds\n",
      "Epoch: 026/159 | Loss: 0.0015 | Episodes: 147 | Win count: 7 | Win rate: 0.259 | time: 201.6 seconds\n",
      "Epoch: 027/159 | Loss: 0.0019 | Episodes: 137 | Win count: 7 | Win rate: 0.250 | time: 210.6 seconds\n",
      "Epoch: 028/159 | Loss: 0.0013 | Episodes: 1 | Win count: 8 | Win rate: 0.276 | time: 210.7 seconds\n",
      "Epoch: 029/159 | Loss: 0.0010 | Episodes: 139 | Win count: 8 | Win rate: 0.267 | time: 219.7 seconds\n",
      "Epoch: 030/159 | Loss: 0.0009 | Episodes: 139 | Win count: 8 | Win rate: 0.258 | time: 228.8 seconds\n",
      "Epoch: 031/159 | Loss: 0.0009 | Episodes: 10 | Win count: 9 | Win rate: 0.281 | time: 229.5 seconds\n",
      "Epoch: 032/159 | Loss: 0.0008 | Episodes: 137 | Win count: 9 | Win rate: 0.281 | time: 238.3 seconds\n",
      "Epoch: 033/159 | Loss: 0.0014 | Episodes: 154 | Win count: 8 | Win rate: 0.250 | time: 248.5 seconds\n",
      "Epoch: 034/159 | Loss: 0.0018 | Episodes: 120 | Win count: 8 | Win rate: 0.250 | time: 256.1 seconds\n",
      "Epoch: 035/159 | Loss: 0.0018 | Episodes: 101 | Win count: 9 | Win rate: 0.281 | time: 262.8 seconds\n",
      "Epoch: 036/159 | Loss: 0.0013 | Episodes: 30 | Win count: 9 | Win rate: 0.281 | time: 264.9 seconds\n",
      "Epoch: 037/159 | Loss: 0.0014 | Episodes: 11 | Win count: 10 | Win rate: 0.312 | time: 265.8 seconds\n",
      "Epoch: 038/159 | Loss: 0.0014 | Episodes: 49 | Win count: 10 | Win rate: 0.312 | time: 269.3 seconds\n",
      "Epoch: 039/159 | Loss: 0.0016 | Episodes: 41 | Win count: 11 | Win rate: 0.344 | time: 272.0 seconds\n",
      "Epoch: 040/159 | Loss: 0.0014 | Episodes: 52 | Win count: 12 | Win rate: 0.375 | time: 275.4 seconds\n",
      "Epoch: 041/159 | Loss: 0.0018 | Episodes: 55 | Win count: 13 | Win rate: 0.406 | time: 279.0 seconds\n",
      "Epoch: 042/159 | Loss: 0.0021 | Episodes: 138 | Win count: 13 | Win rate: 0.406 | time: 287.9 seconds\n",
      "Epoch: 043/159 | Loss: 0.0016 | Episodes: 141 | Win count: 13 | Win rate: 0.406 | time: 297.1 seconds\n",
      "Epoch: 044/159 | Loss: 0.0013 | Episodes: 24 | Win count: 14 | Win rate: 0.438 | time: 298.5 seconds\n",
      "Epoch: 045/159 | Loss: 0.0011 | Episodes: 4 | Win count: 15 | Win rate: 0.469 | time: 298.8 seconds\n",
      "Epoch: 046/159 | Loss: 0.0010 | Episodes: 143 | Win count: 15 | Win rate: 0.469 | time: 308.4 seconds\n",
      "Epoch: 047/159 | Loss: 0.0011 | Episodes: 77 | Win count: 15 | Win rate: 0.469 | time: 313.6 seconds\n",
      "Epoch: 048/159 | Loss: 0.0012 | Episodes: 148 | Win count: 15 | Win rate: 0.469 | time: 323.2 seconds\n",
      "Epoch: 049/159 | Loss: 0.0011 | Episodes: 69 | Win count: 15 | Win rate: 0.469 | time: 327.8 seconds\n",
      "Epoch: 050/159 | Loss: 0.0010 | Episodes: 22 | Win count: 16 | Win rate: 0.500 | time: 329.4 seconds\n",
      "Epoch: 051/159 | Loss: 0.0013 | Episodes: 141 | Win count: 16 | Win rate: 0.500 | time: 339.8 seconds\n",
      "Epoch: 052/159 | Loss: 0.0011 | Episodes: 17 | Win count: 17 | Win rate: 0.531 | time: 340.9 seconds\n",
      "Epoch: 053/159 | Loss: 0.0013 | Episodes: 32 | Win count: 18 | Win rate: 0.562 | time: 343.0 seconds\n",
      "Epoch: 054/159 | Loss: 0.0011 | Episodes: 21 | Win count: 19 | Win rate: 0.594 | time: 344.4 seconds\n",
      "Epoch: 055/159 | Loss: 0.0016 | Episodes: 41 | Win count: 20 | Win rate: 0.625 | time: 347.2 seconds\n",
      "Epoch: 056/159 | Loss: 0.0009 | Episodes: 142 | Win count: 19 | Win rate: 0.594 | time: 356.1 seconds\n",
      "Epoch: 057/159 | Loss: 0.0012 | Episodes: 4 | Win count: 20 | Win rate: 0.625 | time: 356.4 seconds\n",
      "Epoch: 058/159 | Loss: 0.0008 | Episodes: 3 | Win count: 21 | Win rate: 0.656 | time: 356.6 seconds\n",
      "Epoch: 059/159 | Loss: 0.0014 | Episodes: 32 | Win count: 22 | Win rate: 0.688 | time: 358.8 seconds\n",
      "Epoch: 060/159 | Loss: 0.0010 | Episodes: 140 | Win count: 21 | Win rate: 0.656 | time: 368.3 seconds\n",
      "Epoch: 061/159 | Loss: 0.0011 | Episodes: 103 | Win count: 22 | Win rate: 0.688 | time: 375.2 seconds\n",
      "Epoch: 062/159 | Loss: 0.0010 | Episodes: 144 | Win count: 22 | Win rate: 0.688 | time: 384.5 seconds\n",
      "Epoch: 063/159 | Loss: 0.0010 | Episodes: 61 | Win count: 22 | Win rate: 0.688 | time: 388.4 seconds\n",
      "Epoch: 064/159 | Loss: 0.0012 | Episodes: 102 | Win count: 23 | Win rate: 0.719 | time: 394.9 seconds\n",
      "Epoch: 065/159 | Loss: 0.0009 | Episodes: 115 | Win count: 24 | Win rate: 0.750 | time: 6.72 minutes\n",
      "Epoch: 066/159 | Loss: 0.0015 | Episodes: 67 | Win count: 24 | Win rate: 0.750 | time: 6.79 minutes\n",
      "Epoch: 067/159 | Loss: 0.0016 | Episodes: 79 | Win count: 24 | Win rate: 0.750 | time: 6.88 minutes\n",
      "Epoch: 068/159 | Loss: 0.0011 | Episodes: 24 | Win count: 24 | Win rate: 0.750 | time: 6.91 minutes\n",
      "Epoch: 069/159 | Loss: 0.0013 | Episodes: 75 | Win count: 24 | Win rate: 0.750 | time: 6.99 minutes\n",
      "Epoch: 070/159 | Loss: 0.0010 | Episodes: 69 | Win count: 24 | Win rate: 0.750 | time: 7.06 minutes\n",
      "Epoch: 071/159 | Loss: 0.0014 | Episodes: 138 | Win count: 23 | Win rate: 0.719 | time: 7.21 minutes\n",
      "Epoch: 072/159 | Loss: 0.0013 | Episodes: 8 | Win count: 23 | Win rate: 0.719 | time: 7.22 minutes\n",
      "Epoch: 073/159 | Loss: 0.0013 | Episodes: 1 | Win count: 23 | Win rate: 0.719 | time: 7.22 minutes\n",
      "Epoch: 074/159 | Loss: 0.0016 | Episodes: 41 | Win count: 24 | Win rate: 0.750 | time: 7.27 minutes\n",
      "Epoch: 075/159 | Loss: 0.0013 | Episodes: 90 | Win count: 25 | Win rate: 0.781 | time: 7.37 minutes\n",
      "Epoch: 076/159 | Loss: 0.0014 | Episodes: 55 | Win count: 25 | Win rate: 0.781 | time: 7.43 minutes\n",
      "Epoch: 077/159 | Loss: 0.0019 | Episodes: 24 | Win count: 25 | Win rate: 0.781 | time: 7.46 minutes\n",
      "Epoch: 078/159 | Loss: 0.0007 | Episodes: 84 | Win count: 26 | Win rate: 0.812 | time: 7.55 minutes\n",
      "Epoch: 079/159 | Loss: 0.0013 | Episodes: 80 | Win count: 26 | Win rate: 0.812 | time: 7.64 minutes\n",
      "Epoch: 080/159 | Loss: 0.0015 | Episodes: 32 | Win count: 27 | Win rate: 0.844 | time: 7.67 minutes\n",
      "Epoch: 081/159 | Loss: 0.0014 | Episodes: 109 | Win count: 27 | Win rate: 0.844 | time: 7.80 minutes\n"
     ]
    },
    {
     "name": "stdout",
     "output_type": "stream",
     "text": [
      "Epoch: 082/159 | Loss: 0.0010 | Episodes: 87 | Win count: 27 | Win rate: 0.844 | time: 7.89 minutes\n",
      "Epoch: 083/159 | Loss: 0.0016 | Episodes: 11 | Win count: 28 | Win rate: 0.875 | time: 7.90 minutes\n",
      "Epoch: 084/159 | Loss: 0.0015 | Episodes: 7 | Win count: 28 | Win rate: 0.875 | time: 7.91 minutes\n",
      "Epoch: 085/159 | Loss: 0.0016 | Episodes: 26 | Win count: 28 | Win rate: 0.875 | time: 7.94 minutes\n",
      "Epoch: 086/159 | Loss: 0.0014 | Episodes: 18 | Win count: 28 | Win rate: 0.875 | time: 7.96 minutes\n",
      "Epoch: 087/159 | Loss: 0.0016 | Episodes: 41 | Win count: 28 | Win rate: 0.875 | time: 8.01 minutes\n",
      "Epoch: 088/159 | Loss: 0.0017 | Episodes: 7 | Win count: 29 | Win rate: 0.906 | time: 8.01 minutes\n",
      "ADJUSTING EXPLORATION\n",
      "Epoch: 089/159 | Loss: 0.0008 | Episodes: 8 | Win count: 29 | Win rate: 0.906 | time: 8.02 minutes\n",
      "ADJUSTING EXPLORATION\n",
      "Epoch: 090/159 | Loss: 0.0011 | Episodes: 28 | Win count: 29 | Win rate: 0.906 | time: 8.05 minutes\n",
      "ADJUSTING EXPLORATION\n",
      "Epoch: 091/159 | Loss: 0.0010 | Episodes: 15 | Win count: 29 | Win rate: 0.906 | time: 8.07 minutes\n",
      "ADJUSTING EXPLORATION\n",
      "Epoch: 092/159 | Loss: 0.0010 | Episodes: 19 | Win count: 30 | Win rate: 0.938 | time: 8.09 minutes\n",
      "ADJUSTING EXPLORATION\n",
      "Epoch: 093/159 | Loss: 0.0013 | Episodes: 33 | Win count: 30 | Win rate: 0.938 | time: 8.12 minutes\n",
      "ADJUSTING EXPLORATION\n",
      "Epoch: 094/159 | Loss: 0.0014 | Episodes: 6 | Win count: 31 | Win rate: 0.969 | time: 8.13 minutes\n",
      "ADJUSTING EXPLORATION\n",
      "Epoch: 095/159 | Loss: 0.0008 | Episodes: 51 | Win count: 31 | Win rate: 0.969 | time: 8.19 minutes\n",
      "ADJUSTING EXPLORATION\n",
      "Epoch: 096/159 | Loss: 0.0012 | Episodes: 26 | Win count: 31 | Win rate: 0.969 | time: 8.22 minutes\n",
      "ADJUSTING EXPLORATION\n",
      "Epoch: 097/159 | Loss: 0.0008 | Episodes: 29 | Win count: 31 | Win rate: 0.969 | time: 8.25 minutes\n",
      "ADJUSTING EXPLORATION\n",
      "Epoch: 098/159 | Loss: 0.0011 | Episodes: 2 | Win count: 31 | Win rate: 0.969 | time: 8.25 minutes\n",
      "ADJUSTING EXPLORATION\n",
      "Epoch: 099/159 | Loss: 0.0007 | Episodes: 3 | Win count: 31 | Win rate: 0.969 | time: 8.26 minutes\n",
      "ADJUSTING EXPLORATION\n",
      "Epoch: 100/159 | Loss: 0.0009 | Episodes: 32 | Win count: 31 | Win rate: 0.969 | time: 8.29 minutes\n",
      "ADJUSTING EXPLORATION\n",
      "Epoch: 101/159 | Loss: 0.0005 | Episodes: 7 | Win count: 31 | Win rate: 0.969 | time: 8.30 minutes\n",
      "ADJUSTING EXPLORATION\n",
      "Epoch: 102/159 | Loss: 0.0013 | Episodes: 33 | Win count: 31 | Win rate: 0.969 | time: 8.34 minutes\n",
      "ADJUSTING EXPLORATION\n",
      "Epoch: 103/159 | Loss: 0.0008 | Episodes: 4 | Win count: 32 | Win rate: 1.000 | time: 8.34 minutes\n",
      "ADJUSTING EXPLORATION\n",
      "Reached 100% win rate!!!\n",
      "n_epoch: 103, max_mem: 512, data: 64, time: 8.34 minutes\n"
     ]
    },
    {
     "data": {
      "text/plain": [
       "500.415911"
      ]
     },
     "execution_count": 267,
     "metadata": {},
     "output_type": "execute_result"
    }
   ],
   "source": [
    "model = build_model(maze)\n",
    "qtrain(model, maze, max_memory=8*maze.size)"
   ]
  },
  {
   "cell_type": "markdown",
   "metadata": {},
   "source": [
    "This cell will check to see if the model passes the completion check. Note: This could take several minutes."
   ]
  },
  {
   "cell_type": "code",
   "execution_count": 268,
   "metadata": {},
   "outputs": [
    {
     "data": {
      "text/plain": [
       "<matplotlib.image.AxesImage at 0x215c5868dc8>"
      ]
     },
     "execution_count": 268,
     "metadata": {},
     "output_type": "execute_result"
    },
    {
     "data": {
      "image/png": "[encoded data removed]",
      "text/plain": [
       "<Figure size 432x288 with 1 Axes>"
      ]
     },
     "metadata": {
      "needs_background": "light"
     },
     "output_type": "display_data"
    }
   ],
   "source": [
    "completion_check(model, qmaze)\n",
    "show(qmaze)"
   ]
  },
  {
   "cell_type": "markdown",
   "metadata": {},
   "source": [
    "This cell will test your model for one game. It will start the pirate at the top-left corner and run play_game. The agent should find a path from the starting position to the target (treasure). The treasure is located in the bottom-right corner."
   ]
  },
  {
   "cell_type": "code",
   "execution_count": 269,
   "metadata": {},
   "outputs": [
    {
     "data": {
      "text/plain": [
       "<matplotlib.image.AxesImage at 0x215c12f9088>"
      ]
     },
     "execution_count": 269,
     "metadata": {},
     "output_type": "execute_result"
    },
    {
     "data": {
      "image/png": "[encoded data removed]",
      "text/plain": [
       "<Figure size 432x288 with 1 Axes>"
      ]
     },
     "metadata": {
      "needs_background": "light"
     },
     "output_type": "display_data"
    }
   ],
   "source": [
    "pirate_start = (0, 0)\n",
    "play_game(model, qmaze, pirate_start)\n",
    "show(qmaze)"
   ]
  },
  {
   "cell_type": "markdown",
   "metadata": {},
   "source": [
    "## Save and Submit Your Work\n",
    "After you have finished creating the code for your notebook, save your work. Make sure that your notebook contains your name in the filename (e.g. Doe_Jane_ProjectTwo.ipynb). This will help your instructor access and grade your work easily. Download a copy of your IPYNB file and submit it to Brightspace. Refer to the Jupyter Notebook in Apporto Tutorial if you need help with these tasks."
   ]
  }
 ],
 "metadata": {
  "kernelspec": {
   "display_name": "Python 3",
   "language": "python",
   "name": "python3"
  },
  "language_info": {
   "codemirror_mode": {
    "name": "ipython",
    "version": 3
   },
   "file_extension": ".py",
   "mimetype": "text/x-python",
   "name": "python",
   "nbconvert_exporter": "python",
   "pygments_lexer": "ipython3",
   "version": "3.7.4"
  }
 },
 "nbformat": 4,
 "nbformat_minor": 2
}
